{
 "cells": [
  {
   "cell_type": "code",
   "execution_count": 29,
   "id": "7bae7b17",
   "metadata": {
    "scrolled": true
   },
   "outputs": [],
   "source": [
    "import pandas as pd\n",
    "from sklearn.model_selection import train_test_split, GridSearchCV\n",
    "from xgboost import XGBRegressor\n",
    "from sklearn.metrics import mean_squared_error\n",
    "import math\n",
    "from xgboost import XGBRegressor\n",
    "import optuna\n",
    "from joblib import dump"
   ]
  },
  {
   "cell_type": "code",
   "execution_count": 3,
   "id": "fd8dc1c9",
   "metadata": {},
   "outputs": [],
   "source": [
    "df = pd.read_csv(\"../data/cleaned_data.csv\")"
   ]
  },
  {
   "cell_type": "code",
   "execution_count": 7,
   "id": "8cfeb08c",
   "metadata": {},
   "outputs": [],
   "source": [
    "X = df.drop(columns = 'price')\n",
    "y = df['price']"
   ]
  },
  {
   "cell_type": "code",
   "execution_count": 8,
   "id": "23d3adfa",
   "metadata": {},
   "outputs": [],
   "source": [
    "X_train, X_test, y_train, y_test = train_test_split(X, y, test_size=0.2, random_state=105)"
   ]
  },
  {
   "cell_type": "code",
   "execution_count": 14,
   "id": "582f76d1",
   "metadata": {},
   "outputs": [],
   "source": [
    "def objective(trial):\n",
    "    param = {\n",
    "        'max_depth': trial.suggest_int('max_depth', 1, 10),\n",
    "        'learning_rate': trial.suggest_float('learning_rate', 0.01, 1.0),\n",
    "        'n_estimators': trial.suggest_int('n_estimators', 50, 1000),\n",
    "        'min_child_weight': trial.suggest_int('min_child_weight', 1, 10),\n",
    "        'gamma': trial.suggest_float('gamma', 0.01, 1.0),\n",
    "        'subsample': trial.suggest_float('subsample', 0.01, 1.0),\n",
    "        'colsample_bytree': trial.suggest_float('colsample_bytree', 0.01, 1.0),\n",
    "        'reg_alpha': trial.suggest_float('reg_alpha', 0.01, 1.0),\n",
    "        'reg_lambda': trial.suggest_float('reg_lambda', 0.01, 1.0),\n",
    "        'random_state': trial.suggest_int('random_state', 1, 1000)\n",
    "    }\n",
    "    model = XGBRegressor(**param)\n",
    "    model.fit(X_train, y_train)\n",
    "    y_pred = model.predict(X_test)\n",
    "    return mean_squared_error(y_test, y_pred)\n"
   ]
  },
  {
   "cell_type": "code",
   "execution_count": 15,
   "id": "5111458a",
   "metadata": {},
   "outputs": [
    {
     "name": "stderr",
     "output_type": "stream",
     "text": [
      "[I 2024-02-07 14:50:35,294] A new study created in memory with name: regression\n",
      "[I 2024-02-07 14:50:39,742] Trial 0 finished with value: 26297096.697333615 and parameters: {'max_depth': 2, 'learning_rate': 0.8915509810069852, 'n_estimators': 891, 'min_child_weight': 5, 'gamma': 0.41444798749191897, 'subsample': 0.25488313007686436, 'colsample_bytree': 0.2543929441834099, 'reg_alpha': 0.8717651052201966, 'reg_lambda': 0.7670335682190615, 'random_state': 457}. Best is trial 0 with value: 26297096.697333615.\n",
      "[I 2024-02-07 14:50:45,008] Trial 1 finished with value: 18927453.83868386 and parameters: {'max_depth': 10, 'learning_rate': 0.6657899455368863, 'n_estimators': 842, 'min_child_weight': 7, 'gamma': 0.8472203998649239, 'subsample': 0.9318926261574589, 'colsample_bytree': 0.6567930293836112, 'reg_alpha': 0.09953476276517552, 'reg_lambda': 0.20435834387646823, 'random_state': 6}. Best is trial 1 with value: 18927453.83868386.\n",
      "[I 2024-02-07 14:50:48,967] Trial 2 finished with value: 13822558.831441969 and parameters: {'max_depth': 5, 'learning_rate': 0.411056848460987, 'n_estimators': 718, 'min_child_weight': 2, 'gamma': 0.5223794140308408, 'subsample': 0.9256361276627232, 'colsample_bytree': 0.9093536284887765, 'reg_alpha': 0.835718907979611, 'reg_lambda': 0.4325765278783329, 'random_state': 971}. Best is trial 2 with value: 13822558.831441969.\n",
      "[I 2024-02-07 14:50:51,229] Trial 3 finished with value: 39458541.83692368 and parameters: {'max_depth': 1, 'learning_rate': 0.4825005617419787, 'n_estimators': 356, 'min_child_weight': 2, 'gamma': 0.34436664938783507, 'subsample': 0.2940231259766689, 'colsample_bytree': 0.811876420551035, 'reg_alpha': 0.3479638486146267, 'reg_lambda': 0.040420435816088444, 'random_state': 85}. Best is trial 2 with value: 13822558.831441969.\n",
      "[I 2024-02-07 14:50:56,307] Trial 4 finished with value: 31784028.84229291 and parameters: {'max_depth': 6, 'learning_rate': 0.164159963414992, 'n_estimators': 832, 'min_child_weight': 4, 'gamma': 0.4892619455798216, 'subsample': 0.0469530922403867, 'colsample_bytree': 0.11687543479131622, 'reg_alpha': 0.9113460759590261, 'reg_lambda': 0.6874114621476857, 'random_state': 942}. Best is trial 2 with value: 13822558.831441969.\n",
      "[I 2024-02-07 14:50:58,247] Trial 5 finished with value: 26387182.775321886 and parameters: {'max_depth': 7, 'learning_rate': 0.562553651548377, 'n_estimators': 210, 'min_child_weight': 3, 'gamma': 0.2788552789893315, 'subsample': 0.20414215200421562, 'colsample_bytree': 0.30152444939092077, 'reg_alpha': 0.647760796615774, 'reg_lambda': 0.057416239793181716, 'random_state': 467}. Best is trial 2 with value: 13822558.831441969.\n",
      "[I 2024-02-07 14:51:02,949] Trial 6 finished with value: 15069176.535711523 and parameters: {'max_depth': 3, 'learning_rate': 0.16833562305047078, 'n_estimators': 877, 'min_child_weight': 1, 'gamma': 0.6748177824345947, 'subsample': 0.9819260356134303, 'colsample_bytree': 0.9803250383245997, 'reg_alpha': 0.040606630409265564, 'reg_lambda': 0.7635685895019466, 'random_state': 441}. Best is trial 2 with value: 13822558.831441969.\n",
      "[I 2024-02-07 14:51:07,634] Trial 7 finished with value: 26637987.89765876 and parameters: {'max_depth': 8, 'learning_rate': 0.3970735416743079, 'n_estimators': 688, 'min_child_weight': 6, 'gamma': 0.24267447294778413, 'subsample': 0.15259460097058747, 'colsample_bytree': 0.5839178117852202, 'reg_alpha': 0.6493418875352468, 'reg_lambda': 0.27541944064765805, 'random_state': 49}. Best is trial 2 with value: 13822558.831441969.\n",
      "[I 2024-02-07 14:51:09,792] Trial 8 finished with value: 49291866.672081776 and parameters: {'max_depth': 1, 'learning_rate': 0.16586373303134652, 'n_estimators': 336, 'min_child_weight': 10, 'gamma': 0.952679480648358, 'subsample': 0.6830437217369755, 'colsample_bytree': 0.07937915977160247, 'reg_alpha': 0.9934058125402275, 'reg_lambda': 0.48003509838125635, 'random_state': 761}. Best is trial 2 with value: 13822558.831441969.\n",
      "[I 2024-02-07 14:51:12,450] Trial 9 finished with value: 18739856.98322668 and parameters: {'max_depth': 9, 'learning_rate': 0.673991561914377, 'n_estimators': 333, 'min_child_weight': 2, 'gamma': 0.3428827089049001, 'subsample': 0.7121640145346831, 'colsample_bytree': 0.4869203919356643, 'reg_alpha': 0.3597449513804962, 'reg_lambda': 0.6668049537287356, 'random_state': 216}. Best is trial 2 with value: 13822558.831441969.\n",
      "[I 2024-02-07 14:51:15,956] Trial 10 finished with value: 20508034.047789466 and parameters: {'max_depth': 4, 'learning_rate': 0.9998638334292678, 'n_estimators': 602, 'min_child_weight': 8, 'gamma': 0.08637596906704703, 'subsample': 0.5424626764934716, 'colsample_bytree': 0.9933682438037355, 'reg_alpha': 0.7309480262299478, 'reg_lambda': 0.9571214510444382, 'random_state': 990}. Best is trial 2 with value: 13822558.831441969.\n",
      "[I 2024-02-07 14:51:21,278] Trial 11 finished with value: 19455966.935608536 and parameters: {'max_depth': 4, 'learning_rate': 0.024952785436841513, 'n_estimators': 979, 'min_child_weight': 1, 'gamma': 0.711259073062648, 'subsample': 0.9993910302990365, 'colsample_bytree': 0.9933529243267336, 'reg_alpha': 0.13170614987430695, 'reg_lambda': 0.4619382035514437, 'random_state': 651}. Best is trial 2 with value: 13822558.831441969.\n",
      "[I 2024-02-07 14:51:25,021] Trial 12 finished with value: 13050403.59709807 and parameters: {'max_depth': 4, 'learning_rate': 0.21713958196152178, 'n_estimators': 678, 'min_child_weight': 1, 'gamma': 0.6498900458107864, 'subsample': 0.8354463953829346, 'colsample_bytree': 0.7991562558452248, 'reg_alpha': 0.44541812440786915, 'reg_lambda': 0.9172231250925312, 'random_state': 283}. Best is trial 12 with value: 13050403.59709807.\n",
      "[I 2024-02-07 14:51:28,811] Trial 13 finished with value: 14222504.400301382 and parameters: {'max_depth': 5, 'learning_rate': 0.33935041140382366, 'n_estimators': 670, 'min_child_weight': 3, 'gamma': 0.6139368812092032, 'subsample': 0.8037717141103805, 'colsample_bytree': 0.7957309770575477, 'reg_alpha': 0.43983861666324997, 'reg_lambda': 0.9440024537149907, 'random_state': 248}. Best is trial 12 with value: 13050403.59709807.\n",
      "[I 2024-02-07 14:51:31,883] Trial 14 finished with value: 14744250.790263398 and parameters: {'max_depth': 6, 'learning_rate': 0.2698597162499629, 'n_estimators': 487, 'min_child_weight': 1, 'gamma': 0.567031330108277, 'subsample': 0.8186458173704606, 'colsample_bytree': 0.7998692093821582, 'reg_alpha': 0.5241665368317251, 'reg_lambda': 0.31941010466460273, 'random_state': 298}. Best is trial 12 with value: 13050403.59709807.\n",
      "[I 2024-02-07 14:51:35,232] Trial 15 finished with value: 20617243.410466436 and parameters: {'max_depth': 4, 'learning_rate': 0.036289198638229825, 'n_estimators': 538, 'min_child_weight': 4, 'gamma': 0.7420297289832679, 'subsample': 0.5548973015826341, 'colsample_bytree': 0.7512315421149591, 'reg_alpha': 0.24664861738864574, 'reg_lambda': 0.564652726226147, 'random_state': 651}. Best is trial 12 with value: 13050403.59709807.\n",
      "[I 2024-02-07 14:51:39,694] Trial 16 finished with value: 14799402.058266599 and parameters: {'max_depth': 5, 'learning_rate': 0.44693684697820274, 'n_estimators': 740, 'min_child_weight': 3, 'gamma': 0.484594230981378, 'subsample': 0.8394842862881702, 'colsample_bytree': 0.39966086422729635, 'reg_alpha': 0.7718673009354223, 'reg_lambda': 0.3758025151497403, 'random_state': 836}. Best is trial 12 with value: 13050403.59709807.\n",
      "[I 2024-02-07 14:51:44,560] Trial 17 finished with value: 14816480.94425244 and parameters: {'max_depth': 3, 'learning_rate': 0.28686004160584044, 'n_estimators': 751, 'min_child_weight': 2, 'gamma': 0.7975180443485569, 'subsample': 0.6854576318925658, 'colsample_bytree': 0.8964139773519963, 'reg_alpha': 0.5413034261114213, 'reg_lambda': 0.8566681562475825, 'random_state': 336}. Best is trial 12 with value: 13050403.59709807.\n",
      "[I 2024-02-07 14:51:47,871] Trial 18 finished with value: 19510268.92644004 and parameters: {'max_depth': 7, 'learning_rate': 0.5772065905098149, 'n_estimators': 502, 'min_child_weight': 5, 'gamma': 0.9678711270426184, 'subsample': 0.3451898878100027, 'colsample_bytree': 0.6968968255953657, 'reg_alpha': 0.24598392071149305, 'reg_lambda': 0.6026572123907925, 'random_state': 679}. Best is trial 12 with value: 13050403.59709807.\n"
     ]
    },
    {
     "name": "stderr",
     "output_type": "stream",
     "text": [
      "[I 2024-02-07 14:51:49,284] Trial 19 finished with value: 21994810.709575854 and parameters: {'max_depth': 3, 'learning_rate': 0.25940256634249603, 'n_estimators': 101, 'min_child_weight': 4, 'gamma': 0.04135378242254273, 'subsample': 0.8974314197598603, 'colsample_bytree': 0.6202189415319657, 'reg_alpha': 0.6172405304491866, 'reg_lambda': 0.15428553817850277, 'random_state': 150}. Best is trial 12 with value: 13050403.59709807.\n",
      "[I 2024-02-07 14:51:55,784] Trial 20 finished with value: 24024860.296575632 and parameters: {'max_depth': 7, 'learning_rate': 0.8113167206489557, 'n_estimators': 996, 'min_child_weight': 10, 'gamma': 0.5898023842657636, 'subsample': 0.49067992718806436, 'colsample_bytree': 0.8958130629386687, 'reg_alpha': 0.7679715774548921, 'reg_lambda': 0.3997695281496109, 'random_state': 578}. Best is trial 12 with value: 13050403.59709807.\n",
      "[I 2024-02-07 14:51:59,469] Trial 21 finished with value: 15587739.58686266 and parameters: {'max_depth': 5, 'learning_rate': 0.36780812880333813, 'n_estimators': 641, 'min_child_weight': 3, 'gamma': 0.6224518941176792, 'subsample': 0.791549389807818, 'colsample_bytree': 0.8723176178553852, 'reg_alpha': 0.396198184938384, 'reg_lambda': 0.9609173919955399, 'random_state': 286}. Best is trial 12 with value: 13050403.59709807.\n",
      "[I 2024-02-07 14:52:02,956] Trial 22 finished with value: 14006342.316154951 and parameters: {'max_depth': 5, 'learning_rate': 0.3286373285012494, 'n_estimators': 584, 'min_child_weight': 2, 'gamma': 0.5162294383787693, 'subsample': 0.772986676590895, 'colsample_bytree': 0.535393147564262, 'reg_alpha': 0.4449605607015323, 'reg_lambda': 0.8731641205691191, 'random_state': 368}. Best is trial 12 with value: 13050403.59709807.\n",
      "[I 2024-02-07 14:52:05,849] Trial 23 finished with value: 16603669.746271629 and parameters: {'max_depth': 4, 'learning_rate': 0.11569048858563252, 'n_estimators': 429, 'min_child_weight': 1, 'gamma': 0.511541346101969, 'subsample': 0.8842808927087998, 'colsample_bytree': 0.5339129209102015, 'reg_alpha': 0.4645217171098257, 'reg_lambda': 0.82349383124816, 'random_state': 349}. Best is trial 12 with value: 13050403.59709807.\n",
      "[I 2024-02-07 14:52:09,224] Trial 24 finished with value: 13384639.6398205 and parameters: {'max_depth': 6, 'learning_rate': 0.256814234043485, 'n_estimators': 568, 'min_child_weight': 2, 'gamma': 0.44779819222746786, 'subsample': 0.6185980124118264, 'colsample_bytree': 0.46181274284961565, 'reg_alpha': 0.25689709341898104, 'reg_lambda': 0.8620291553925471, 'random_state': 378}. Best is trial 12 with value: 13050403.59709807.\n",
      "[I 2024-02-07 14:52:13,653] Trial 25 finished with value: 14062113.748806974 and parameters: {'max_depth': 6, 'learning_rate': 0.20376487209622324, 'n_estimators': 753, 'min_child_weight': 2, 'gamma': 0.17032560033969907, 'subsample': 0.6285053323188459, 'colsample_bytree': 0.4189150631142041, 'reg_alpha': 0.2647308426480156, 'reg_lambda': 0.6071137411542955, 'random_state': 547}. Best is trial 12 with value: 13050403.59709807.\n",
      "[I 2024-02-07 14:52:17,369] Trial 26 finished with value: 16325852.289748404 and parameters: {'max_depth': 8, 'learning_rate': 0.4404588922463262, 'n_estimators': 591, 'min_child_weight': 1, 'gamma': 0.4125376355569782, 'subsample': 0.474273603610738, 'colsample_bytree': 0.710569959851913, 'reg_alpha': 0.1953803066009246, 'reg_lambda': 0.7218956239749672, 'random_state': 849}. Best is trial 12 with value: 13050403.59709807.\n",
      "[I 2024-02-07 14:52:19,825] Trial 27 finished with value: 28293472.41704505 and parameters: {'max_depth': 2, 'learning_rate': 0.08978448901115163, 'n_estimators': 417, 'min_child_weight': 8, 'gamma': 0.4350673307038694, 'subsample': 0.619551013646861, 'colsample_bytree': 0.3095508485075691, 'reg_alpha': 0.3103824245106792, 'reg_lambda': 0.9993946768960076, 'random_state': 153}. Best is trial 12 with value: 13050403.59709807.\n",
      "[I 2024-02-07 14:52:24,405] Trial 28 finished with value: 15284008.668124745 and parameters: {'max_depth': 6, 'learning_rate': 0.24448775087378907, 'n_estimators': 712, 'min_child_weight': 4, 'gamma': 0.8301635014947693, 'subsample': 0.42569129539298145, 'colsample_bytree': 0.4368511943112322, 'reg_alpha': 0.6059081424631725, 'reg_lambda': 0.5370241269648798, 'random_state': 393}. Best is trial 12 with value: 13050403.59709807.\n",
      "[I 2024-02-07 14:52:28,335] Trial 29 finished with value: 18449250.805952813 and parameters: {'max_depth': 2, 'learning_rate': 0.5150784542482988, 'n_estimators': 778, 'min_child_weight': 6, 'gamma': 0.388753364361551, 'subsample': 0.7281491277561011, 'colsample_bytree': 0.24329880093660577, 'reg_alpha': 0.853292785296204, 'reg_lambda': 0.8126813857269851, 'random_state': 530}. Best is trial 12 with value: 13050403.59709807.\n",
      "[I 2024-02-07 14:52:33,967] Trial 30 finished with value: 15902770.976989316 and parameters: {'max_depth': 8, 'learning_rate': 0.4186851947926468, 'n_estimators': 925, 'min_child_weight': 3, 'gamma': 0.6953938898585885, 'subsample': 0.9416163553313079, 'colsample_bytree': 0.16697761557441704, 'reg_alpha': 0.1943641591255479, 'reg_lambda': 0.8902659323881116, 'random_state': 425}. Best is trial 12 with value: 13050403.59709807.\n",
      "[I 2024-02-07 14:52:37,971] Trial 31 finished with value: 14071222.33771617 and parameters: {'max_depth': 5, 'learning_rate': 0.3333591495485983, 'n_estimators': 575, 'min_child_weight': 2, 'gamma': 0.5641784355842101, 'subsample': 0.7380853544232358, 'colsample_bytree': 0.5522635440727622, 'reg_alpha': 0.4307065927826782, 'reg_lambda': 0.7807840917381822, 'random_state': 378}. Best is trial 12 with value: 13050403.59709807.\n",
      "[I 2024-02-07 14:52:41,767] Trial 32 finished with value: 15396384.71634457 and parameters: {'max_depth': 5, 'learning_rate': 0.3231275351123846, 'n_estimators': 638, 'min_child_weight': 2, 'gamma': 0.5182745265204883, 'subsample': 0.6140413948561035, 'colsample_bytree': 0.6588593468827585, 'reg_alpha': 0.5589077536724804, 'reg_lambda': 0.8953547903112923, 'random_state': 226}. Best is trial 12 with value: 13050403.59709807.\n",
      "[I 2024-02-07 14:52:46,111] Trial 33 finished with value: 13718770.03877776 and parameters: {'max_depth': 4, 'learning_rate': 0.23276463341950793, 'n_estimators': 816, 'min_child_weight': 1, 'gamma': 0.6507897894960142, 'subsample': 0.9090915450307424, 'colsample_bytree': 0.8602558403330486, 'reg_alpha': 0.4777583724463289, 'reg_lambda': 0.8917739031391252, 'random_state': 478}. Best is trial 12 with value: 13050403.59709807.\n",
      "[I 2024-02-07 14:52:51,460] Trial 34 finished with value: 15246876.352803957 and parameters: {'max_depth': 3, 'learning_rate': 0.1047178531368555, 'n_estimators': 843, 'min_child_weight': 1, 'gamma': 0.782787757140543, 'subsample': 0.8531812745413401, 'colsample_bytree': 0.8446244331915728, 'reg_alpha': 0.32202760986776136, 'reg_lambda': 0.7121693841915443, 'random_state': 590}. Best is trial 12 with value: 13050403.59709807.\n",
      "[I 2024-02-07 14:52:55,599] Trial 35 finished with value: 13611595.273297144 and parameters: {'max_depth': 4, 'learning_rate': 0.21982612137990587, 'n_estimators': 798, 'min_child_weight': 1, 'gamma': 0.6501565460272634, 'subsample': 0.9431777793700665, 'colsample_bytree': 0.9232895881530838, 'reg_alpha': 0.678655952180419, 'reg_lambda': 0.6364164094562533, 'random_state': 467}. Best is trial 12 with value: 13050403.59709807.\n",
      "[I 2024-02-07 14:53:01,151] Trial 36 finished with value: 14330165.73003164 and parameters: {'max_depth': 4, 'learning_rate': 0.20988940604957895, 'n_estimators': 812, 'min_child_weight': 1, 'gamma': 0.6549641275696025, 'subsample': 0.9320171599625413, 'colsample_bytree': 0.9298168395538127, 'reg_alpha': 0.6964571891410555, 'reg_lambda': 0.9183539828005084, 'random_state': 493}. Best is trial 12 with value: 13050403.59709807.\n",
      "[I 2024-02-07 14:53:05,802] Trial 37 finished with value: 14004787.763034439 and parameters: {'max_depth': 3, 'learning_rate': 0.2191103153301293, 'n_estimators': 921, 'min_child_weight': 1, 'gamma': 0.8942914476584554, 'subsample': 0.8669696618467263, 'colsample_bytree': 0.7506207961191155, 'reg_alpha': 0.5088895495126151, 'reg_lambda': 0.7463240727351, 'random_state': 461}. Best is trial 12 with value: 13050403.59709807.\n",
      "[I 2024-02-07 14:53:11,707] Trial 38 finished with value: 15040076.23639023 and parameters: {'max_depth': 10, 'learning_rate': 0.13801956089902942, 'n_estimators': 806, 'min_child_weight': 2, 'gamma': 0.7560284901025526, 'subsample': 0.948879419984559, 'colsample_bytree': 0.9366569886152354, 'reg_alpha': 0.5952379387461102, 'reg_lambda': 0.6506644737026329, 'random_state': 158}. Best is trial 12 with value: 13050403.59709807.\n"
     ]
    },
    {
     "name": "stderr",
     "output_type": "stream",
     "text": [
      "[I 2024-02-07 14:53:17,865] Trial 39 finished with value: 16057583.512650432 and parameters: {'max_depth': 4, 'learning_rate': 0.06376097516603177, 'n_estimators': 896, 'min_child_weight': 3, 'gamma': 0.8878263678414977, 'subsample': 0.9895572980293528, 'colsample_bytree': 0.84190512597994, 'reg_alpha': 0.040845912761340086, 'reg_lambda': 0.7796082222112435, 'random_state': 425}. Best is trial 12 with value: 13050403.59709807.\n",
      "[I 2024-02-07 14:53:23,266] Trial 40 finished with value: 18830748.685407348 and parameters: {'max_depth': 2, 'learning_rate': 0.17786492348481078, 'n_estimators': 872, 'min_child_weight': 1, 'gamma': 0.4636947479679519, 'subsample': 0.3741797311846057, 'colsample_bytree': 0.6092738840775085, 'reg_alpha': 0.387745321769968, 'reg_lambda': 0.9995637888287835, 'random_state': 287}. Best is trial 12 with value: 13050403.59709807.\n",
      "[I 2024-02-07 14:53:28,235] Trial 41 finished with value: 14389718.65697673 and parameters: {'max_depth': 7, 'learning_rate': 0.29448031811124326, 'n_estimators': 691, 'min_child_weight': 2, 'gamma': 0.34489875709485174, 'subsample': 0.9130668206937909, 'colsample_bytree': 0.9459748891130374, 'reg_alpha': 0.8166508024280192, 'reg_lambda': 0.4347756621525902, 'random_state': 733}. Best is trial 12 with value: 13050403.59709807.\n",
      "[I 2024-02-07 14:53:32,098] Trial 42 finished with value: 13746904.12605884 and parameters: {'max_depth': 4, 'learning_rate': 0.37198854647392043, 'n_estimators': 637, 'min_child_weight': 1, 'gamma': 0.6590589435400428, 'subsample': 0.9511076828775359, 'colsample_bytree': 0.7635346747321808, 'reg_alpha': 0.9608368272655003, 'reg_lambda': 0.825418503522332, 'random_state': 494}. Best is trial 12 with value: 13050403.59709807.\n",
      "[I 2024-02-07 14:53:36,794] Trial 43 finished with value: 14378823.956994707 and parameters: {'max_depth': 3, 'learning_rate': 0.37986201847772083, 'n_estimators': 663, 'min_child_weight': 1, 'gamma': 0.6511479749655578, 'subsample': 0.7595668129956938, 'colsample_bytree': 0.7554312314688153, 'reg_alpha': 0.998112156984127, 'reg_lambda': 0.8428998309979691, 'random_state': 493}. Best is trial 12 with value: 13050403.59709807.\n",
      "[I 2024-02-07 14:53:40,252] Trial 44 finished with value: 14766450.43655397 and parameters: {'max_depth': 4, 'learning_rate': 0.15165862513023765, 'n_estimators': 551, 'min_child_weight': 1, 'gamma': 0.7145058974895178, 'subsample': 0.9698005108104569, 'colsample_bytree': 0.8432791847667563, 'reg_alpha': 0.9372807402310794, 'reg_lambda': 0.8081063839429447, 'random_state': 581}. Best is trial 12 with value: 13050403.59709807.\n",
      "[I 2024-02-07 14:53:43,278] Trial 45 finished with value: 15163519.576236939 and parameters: {'max_depth': 6, 'learning_rate': 0.50583456173234, 'n_estimators': 460, 'min_child_weight': 2, 'gamma': 0.5662117971096247, 'subsample': 0.8758445235271017, 'colsample_bytree': 0.6744199366539241, 'reg_alpha': 0.891729252623308, 'reg_lambda': 0.9149414564438472, 'random_state': 524}. Best is trial 12 with value: 13050403.59709807.\n",
      "[I 2024-02-07 14:53:47,070] Trial 46 finished with value: 36260378.939157955 and parameters: {'max_depth': 1, 'learning_rate': 0.28670544431713446, 'n_estimators': 620, 'min_child_weight': 1, 'gamma': 0.6553128934011346, 'subsample': 0.8146194531701452, 'colsample_bytree': 0.35562691851121786, 'reg_alpha': 0.6801665351986195, 'reg_lambda': 0.6767989111101238, 'random_state': 410}. Best is trial 12 with value: 13050403.59709807.\n",
      "[I 2024-02-07 14:53:52,306] Trial 47 finished with value: 15026810.357370207 and parameters: {'max_depth': 4, 'learning_rate': 0.23837674695437014, 'n_estimators': 787, 'min_child_weight': 3, 'gamma': 0.6056917147590897, 'subsample': 0.6880005313115204, 'colsample_bytree': 0.49339692128665263, 'reg_alpha': 0.15304959344056468, 'reg_lambda': 0.7459870601029832, 'random_state': 323}. Best is trial 12 with value: 13050403.59709807.\n",
      "[I 2024-02-07 14:53:56,224] Trial 48 finished with value: 19896604.89890369 and parameters: {'max_depth': 3, 'learning_rate': 0.1844943222187684, 'n_estimators': 693, 'min_child_weight': 2, 'gamma': 0.7293096776817417, 'subsample': 0.04946325293103487, 'colsample_bytree': 0.7827143043941124, 'reg_alpha': 0.47706296915399116, 'reg_lambda': 0.9440523753492092, 'random_state': 458}. Best is trial 12 with value: 13050403.59709807.\n",
      "[I 2024-02-07 14:54:01,848] Trial 49 finished with value: 14401203.472508224 and parameters: {'max_depth': 5, 'learning_rate': 0.37035732490919365, 'n_estimators': 731, 'min_child_weight': 2, 'gamma': 0.546157952296082, 'subsample': 0.9988608260006218, 'colsample_bytree': 0.7119208306351513, 'reg_alpha': 0.3618567288244348, 'reg_lambda': 0.8501208617545072, 'random_state': 624}. Best is trial 12 with value: 13050403.59709807.\n",
      "[I 2024-02-07 14:54:03,992] Trial 50 finished with value: 33906078.626314506 and parameters: {'max_depth': 6, 'learning_rate': 0.6537679188193346, 'n_estimators': 292, 'min_child_weight': 1, 'gamma': 0.4612430327503293, 'subsample': 0.9067091993213174, 'colsample_bytree': 0.019270346866286814, 'reg_alpha': 0.5584717390691122, 'reg_lambda': 0.6285666666193694, 'random_state': 80}. Best is trial 12 with value: 13050403.59709807.\n",
      "[I 2024-02-07 14:54:09,266] Trial 51 finished with value: 15669329.757329913 and parameters: {'max_depth': 4, 'learning_rate': 0.48652188433536536, 'n_estimators': 853, 'min_child_weight': 1, 'gamma': 0.2639345353957431, 'subsample': 0.8354818549687041, 'colsample_bytree': 0.9629152801371491, 'reg_alpha': 0.9204626061605037, 'reg_lambda': 0.5100245903538053, 'random_state': 265}. Best is trial 12 with value: 13050403.59709807.\n",
      "[I 2024-02-07 14:54:13,188] Trial 52 finished with value: 15260406.870434018 and parameters: {'max_depth': 5, 'learning_rate': 0.42483076492715954, 'n_estimators': 520, 'min_child_weight': 4, 'gamma': 0.6273915868379623, 'subsample': 0.954395148678483, 'colsample_bytree': 0.9031688009177304, 'reg_alpha': 0.8489095932175567, 'reg_lambda': 0.25746546125490133, 'random_state': 940}. Best is trial 12 with value: 13050403.59709807.\n",
      "[I 2024-02-07 14:54:17,411] Trial 53 finished with value: 17305674.250322953 and parameters: {'max_depth': 4, 'learning_rate': 0.31191294588861174, 'n_estimators': 660, 'min_child_weight': 2, 'gamma': 0.6892996954167834, 'subsample': 0.24353058436178926, 'colsample_bytree': 0.996686751621007, 'reg_alpha': 0.9445121293640198, 'reg_lambda': 0.562555578083612, 'random_state': 476}. Best is trial 12 with value: 13050403.59709807.\n",
      "[I 2024-02-07 14:54:22,454] Trial 54 finished with value: 13201359.746761892 and parameters: {'max_depth': 5, 'learning_rate': 0.5460107041503929, 'n_estimators': 777, 'min_child_weight': 1, 'gamma': 0.771071542365398, 'subsample': 0.885622808379988, 'colsample_bytree': 0.8261493686033411, 'reg_alpha': 0.7763370102604021, 'reg_lambda': 0.3450070440494095, 'random_state': 196}. Best is trial 12 with value: 13050403.59709807.\n",
      "[I 2024-02-07 14:54:29,397] Trial 55 finished with value: 18094884.031733286 and parameters: {'max_depth': 5, 'learning_rate': 0.7043358604849019, 'n_estimators': 956, 'min_child_weight': 1, 'gamma': 0.7714488984664829, 'subsample': 0.902293213735834, 'colsample_bytree': 0.8169978638232867, 'reg_alpha': 0.8012669223018953, 'reg_lambda': 0.35918834884858175, 'random_state': 319}. Best is trial 12 with value: 13050403.59709807.\n",
      "[I 2024-02-07 14:54:36,305] Trial 56 finished with value: 16969870.20865586 and parameters: {'max_depth': 4, 'learning_rate': 0.5776226013450146, 'n_estimators': 750, 'min_child_weight': 5, 'gamma': 0.8292376184517252, 'subsample': 0.7965218877956484, 'colsample_bytree': 0.8634942365600204, 'reg_alpha': 0.7208247035792058, 'reg_lambda': 0.16419306371847225, 'random_state': 21}. Best is trial 12 with value: 13050403.59709807.\n",
      "[I 2024-02-07 14:54:42,271] Trial 57 finished with value: 13777154.469661208 and parameters: {'max_depth': 6, 'learning_rate': 0.2700253493974571, 'n_estimators': 822, 'min_child_weight': 1, 'gamma': 0.8630236237471807, 'subsample': 0.8496537937257124, 'colsample_bytree': 0.788556796889965, 'reg_alpha': 0.7784104547018841, 'reg_lambda': 0.9608537853143283, 'random_state': 113}. Best is trial 12 with value: 13050403.59709807.\n",
      "[I 2024-02-07 14:54:46,615] Trial 58 finished with value: 19927351.11937897 and parameters: {'max_depth': 7, 'learning_rate': 0.5990885363757982, 'n_estimators': 715, 'min_child_weight': 3, 'gamma': 0.932067728358039, 'subsample': 0.5528707742031893, 'colsample_bytree': 0.7418832444981895, 'reg_alpha': 0.6526684970384022, 'reg_lambda': 0.24275213416304642, 'random_state': 200}. Best is trial 12 with value: 13050403.59709807.\n"
     ]
    },
    {
     "name": "stderr",
     "output_type": "stream",
     "text": [
      "[I 2024-02-07 14:54:51,604] Trial 59 finished with value: 16192099.213803079 and parameters: {'max_depth': 5, 'learning_rate': 0.46453454421555085, 'n_estimators': 783, 'min_child_weight': 2, 'gamma': 0.8133290477358465, 'subsample': 0.7667290497118378, 'colsample_bytree': 0.4569678515342848, 'reg_alpha': 0.7439261749968937, 'reg_lambda': 0.8004267474225322, 'random_state': 195}. Best is trial 12 with value: 13050403.59709807.\n",
      "[I 2024-02-07 14:54:53,147] Trial 60 finished with value: 23753805.379853915 and parameters: {'max_depth': 3, 'learning_rate': 0.9551702082036051, 'n_estimators': 78, 'min_child_weight': 9, 'gamma': 0.5937517012795221, 'subsample': 0.9272826284665181, 'colsample_bytree': 0.8968009116106135, 'reg_alpha': 0.29338483184030095, 'reg_lambda': 0.7113156429647831, 'random_state': 344}. Best is trial 12 with value: 13050403.59709807.\n",
      "[I 2024-02-07 14:54:58,180] Trial 61 finished with value: 13341917.564816225 and parameters: {'max_depth': 4, 'learning_rate': 0.26231990122301824, 'n_estimators': 816, 'min_child_weight': 1, 'gamma': 0.8543693494734242, 'subsample': 0.8507615944632065, 'colsample_bytree': 0.7901793599981496, 'reg_alpha': 0.7658332499551869, 'reg_lambda': 0.9409422727409534, 'random_state': 89}. Best is trial 12 with value: 13050403.59709807.\n",
      "[I 2024-02-07 14:55:03,108] Trial 62 finished with value: 13320344.479623782 and parameters: {'max_depth': 4, 'learning_rate': 0.22668652347288018, 'n_estimators': 886, 'min_child_weight': 1, 'gamma': 0.7389734075729959, 'subsample': 0.8805081699467698, 'colsample_bytree': 0.8268459000594421, 'reg_alpha': 0.6368616746040495, 'reg_lambda': 0.8765990676027366, 'random_state': 98}. Best is trial 12 with value: 13050403.59709807.\n",
      "[I 2024-02-07 14:55:08,138] Trial 63 finished with value: 14065325.617616955 and parameters: {'max_depth': 5, 'learning_rate': 0.2509717404186131, 'n_estimators': 898, 'min_child_weight': 1, 'gamma': 0.7500164174478869, 'subsample': 0.6568277636327341, 'colsample_bytree': 0.8150634020260087, 'reg_alpha': 0.6776919152579581, 'reg_lambda': 0.8755597629656384, 'random_state': 96}. Best is trial 12 with value: 13050403.59709807.\n",
      "[I 2024-02-07 14:55:12,826] Trial 64 finished with value: 14228617.451481266 and parameters: {'max_depth': 4, 'learning_rate': 0.1412542527224216, 'n_estimators': 856, 'min_child_weight': 1, 'gamma': 0.7992508120815176, 'subsample': 0.8308319734979345, 'colsample_bytree': 0.8747002947549195, 'reg_alpha': 0.6245741126843595, 'reg_lambda': 0.9191371505856873, 'random_state': 25}. Best is trial 12 with value: 13050403.59709807.\n",
      "[I 2024-02-07 14:55:17,276] Trial 65 finished with value: 14495390.497555636 and parameters: {'max_depth': 3, 'learning_rate': 0.5300578003796533, 'n_estimators': 934, 'min_child_weight': 2, 'gamma': 0.9898200335080196, 'subsample': 0.8777393310065924, 'colsample_bytree': 0.7209180114279459, 'reg_alpha': 0.5880791820978892, 'reg_lambda': 0.08679122436413755, 'random_state': 248}. Best is trial 12 with value: 13050403.59709807.\n",
      "[I 2024-02-07 14:55:22,615] Trial 66 finished with value: 14579703.975342302 and parameters: {'max_depth': 6, 'learning_rate': 0.05340378746800101, 'n_estimators': 777, 'min_child_weight': 1, 'gamma': 0.7063798855844665, 'subsample': 0.7910409565094517, 'colsample_bytree': 0.8222037371828244, 'reg_alpha': 0.7277322478487072, 'reg_lambda': 0.3104678584597259, 'random_state': 122}. Best is trial 12 with value: 13050403.59709807.\n",
      "[I 2024-02-07 14:55:27,239] Trial 67 finished with value: 13908865.628082305 and parameters: {'max_depth': 4, 'learning_rate': 0.22231753303600402, 'n_estimators': 823, 'min_child_weight': 2, 'gamma': 0.8439626691362758, 'subsample': 0.7202141004336684, 'colsample_bytree': 0.6226634922495378, 'reg_alpha': 0.49322699089147815, 'reg_lambda': 0.9664595271504496, 'random_state': 49}. Best is trial 12 with value: 13050403.59709807.\n",
      "[I 2024-02-07 14:55:31,745] Trial 68 finished with value: 16411720.438611913 and parameters: {'max_depth': 5, 'learning_rate': 0.1899209394875734, 'n_estimators': 761, 'min_child_weight': 7, 'gamma': 0.7312152702014598, 'subsample': 0.5815463206147046, 'colsample_bytree': 0.9253259490941632, 'reg_alpha': 0.4160364102250414, 'reg_lambda': 0.9045793865170124, 'random_state': 62}. Best is trial 12 with value: 13050403.59709807.\n",
      "[I 2024-02-07 14:55:36,507] Trial 69 finished with value: 13818887.452805473 and parameters: {'max_depth': 3, 'learning_rate': 0.3466858636866932, 'n_estimators': 960, 'min_child_weight': 1, 'gamma': 0.8641826948913042, 'subsample': 0.8862382175174635, 'colsample_bytree': 0.8766973158704012, 'reg_alpha': 0.5338360079073563, 'reg_lambda': 0.8764606796468957, 'random_state': 168}. Best is trial 12 with value: 13050403.59709807.\n",
      "[I 2024-02-07 14:55:41,522] Trial 70 finished with value: 13890563.809636166 and parameters: {'max_depth': 5, 'learning_rate': 0.10250939090255673, 'n_estimators': 880, 'min_child_weight': 1, 'gamma': 0.9212837204976521, 'subsample': 0.9726490592379164, 'colsample_bytree': 0.3793843088542872, 'reg_alpha': 0.756924407835933, 'reg_lambda': 0.9389185128281433, 'random_state': 218}. Best is trial 12 with value: 13050403.59709807.\n",
      "[I 2024-02-07 14:55:45,795] Trial 71 finished with value: 13825495.784341674 and parameters: {'max_depth': 4, 'learning_rate': 0.29614120944296646, 'n_estimators': 718, 'min_child_weight': 1, 'gamma': 0.6581136969600934, 'subsample': 0.9305659280899756, 'colsample_bytree': 0.7587317362410375, 'reg_alpha': 0.7057099359227313, 'reg_lambda': 0.8414581781154304, 'random_state': 388}. Best is trial 12 with value: 13050403.59709807.\n",
      "[I 2024-02-07 14:55:49,264] Trial 72 finished with value: 14865243.48215848 and parameters: {'max_depth': 4, 'learning_rate': 0.265608653466579, 'n_estimators': 558, 'min_child_weight': 2, 'gamma': 0.7777237674765135, 'subsample': 0.9562761195895539, 'colsample_bytree': 0.7805697941007106, 'reg_alpha': 0.8807763044832764, 'reg_lambda': 0.9777728558478281, 'random_state': 369}. Best is trial 12 with value: 13050403.59709807.\n",
      "[I 2024-02-07 14:55:52,743] Trial 73 finished with value: 12459655.914287673 and parameters: {'max_depth': 4, 'learning_rate': 0.4023884054905842, 'n_estimators': 602, 'min_child_weight': 1, 'gamma': 0.6844674302270423, 'subsample': 0.8489996803685931, 'colsample_bytree': 0.6775783225413308, 'reg_alpha': 0.6421588199445127, 'reg_lambda': 0.8264437333231882, 'random_state': 523}. Best is trial 73 with value: 12459655.914287673.\n",
      "[I 2024-02-07 14:55:57,976] Trial 74 finished with value: 14253318.889240792 and parameters: {'max_depth': 3, 'learning_rate': 0.23267988601567224, 'n_estimators': 613, 'min_child_weight': 1, 'gamma': 0.6214742822709121, 'subsample': 0.8565827558037633, 'colsample_bytree': 0.9645470660420076, 'reg_alpha': 0.6524078320806762, 'reg_lambda': 0.7607499578063074, 'random_state': 441}. Best is trial 73 with value: 12459655.914287673.\n",
      "[I 2024-02-07 14:56:02,398] Trial 75 finished with value: 15274350.891374022 and parameters: {'max_depth': 5, 'learning_rate': 0.19764159539962295, 'n_estimators': 814, 'min_child_weight': 2, 'gamma': 0.683922900071735, 'subsample': 0.7439455497443284, 'colsample_bytree': 0.8487823772064265, 'reg_alpha': 0.7968475565887012, 'reg_lambda': 0.8584530504449386, 'random_state': 558}. Best is trial 73 with value: 12459655.914287673.\n",
      "[I 2024-02-07 14:56:06,320] Trial 76 finished with value: 13000474.569940845 and parameters: {'max_depth': 4, 'learning_rate': 0.3991911327606926, 'n_estimators': 681, 'min_child_weight': 1, 'gamma': 0.5518110264072985, 'subsample': 0.8118434310005518, 'colsample_bytree': 0.6779221226651718, 'reg_alpha': 0.576584357082553, 'reg_lambda': 0.9292636862553102, 'random_state': 128}. Best is trial 73 with value: 12459655.914287673.\n",
      "[I 2024-02-07 14:56:10,167] Trial 77 finished with value: 12853913.298140462 and parameters: {'max_depth': 5, 'learning_rate': 0.39189011251593814, 'n_estimators': 683, 'min_child_weight': 1, 'gamma': 0.47872343630165265, 'subsample': 0.7841367688010399, 'colsample_bytree': 0.565973972649542, 'reg_alpha': 0.6283941075503366, 'reg_lambda': 0.9838603755325447, 'random_state': 176}. Best is trial 73 with value: 12459655.914287673.\n",
      "[I 2024-02-07 14:56:13,630] Trial 78 finished with value: 15099270.707451073 and parameters: {'max_depth': 6, 'learning_rate': 0.5361663477281788, 'n_estimators': 572, 'min_child_weight': 2, 'gamma': 0.37859725535266314, 'subsample': 0.7007509471089454, 'colsample_bytree': 0.5707460397008142, 'reg_alpha': 0.56317494106745, 'reg_lambda': 0.9292158450467098, 'random_state': 177}. Best is trial 73 with value: 12459655.914287673.\n"
     ]
    },
    {
     "name": "stderr",
     "output_type": "stream",
     "text": [
      "[I 2024-02-07 14:56:17,295] Trial 79 finished with value: 13604410.339857157 and parameters: {'max_depth': 5, 'learning_rate': 0.39606712575103753, 'n_estimators': 685, 'min_child_weight': 3, 'gamma': 0.47031127004075535, 'subsample': 0.810145819832245, 'colsample_bytree': 0.6382096122021768, 'reg_alpha': 0.6313888913351828, 'reg_lambda': 0.9745345726075259, 'random_state': 139}. Best is trial 73 with value: 12459655.914287673.\n",
      "[I 2024-02-07 14:56:20,307] Trial 80 finished with value: 13772870.23162327 and parameters: {'max_depth': 6, 'learning_rate': 0.4775740146171852, 'n_estimators': 479, 'min_child_weight': 1, 'gamma': 0.5003029023891794, 'subsample': 0.6565601356840725, 'colsample_bytree': 0.6754781213550153, 'reg_alpha': 0.5768879302941892, 'reg_lambda': 0.9989570236411162, 'random_state': 242}. Best is trial 73 with value: 12459655.914287673.\n",
      "[I 2024-02-07 14:56:23,892] Trial 81 finished with value: 15090347.398357822 and parameters: {'max_depth': 5, 'learning_rate': 0.4090808266717523, 'n_estimators': 658, 'min_child_weight': 2, 'gamma': 0.5418345639097243, 'subsample': 0.8122704692336052, 'colsample_bytree': 0.6414767480119082, 'reg_alpha': 0.6385109089199631, 'reg_lambda': 0.9791093330752898, 'random_state': 121}. Best is trial 73 with value: 12459655.914287673.\n",
      "[I 2024-02-07 14:56:27,872] Trial 82 finished with value: 15487409.74190541 and parameters: {'max_depth': 5, 'learning_rate': 0.45106922383860626, 'n_estimators': 692, 'min_child_weight': 3, 'gamma': 0.4236614861321368, 'subsample': 0.7554020444099087, 'colsample_bytree': 0.5961687805824445, 'reg_alpha': 0.5994086610307069, 'reg_lambda': 0.942515058596375, 'random_state': 143}. Best is trial 73 with value: 12459655.914287673.\n",
      "[I 2024-02-07 14:56:32,545] Trial 83 finished with value: 13957053.841719672 and parameters: {'max_depth': 7, 'learning_rate': 0.3470907294602096, 'n_estimators': 612, 'min_child_weight': 1, 'gamma': 0.4762576384804179, 'subsample': 0.8279780076534319, 'colsample_bytree': 0.5167756869997481, 'reg_alpha': 0.521155448150165, 'reg_lambda': 0.8974889934793953, 'random_state': 75}. Best is trial 73 with value: 12459655.914287673.\n",
      "[I 2024-02-07 14:56:38,223] Trial 84 finished with value: 14731468.833380464 and parameters: {'max_depth': 5, 'learning_rate': 0.38955323383733303, 'n_estimators': 637, 'min_child_weight': 2, 'gamma': 0.3296645927346511, 'subsample': 0.7751404865790809, 'colsample_bytree': 0.5643536000040126, 'reg_alpha': 0.6254146558215259, 'reg_lambda': 0.8738733416323374, 'random_state': 3}. Best is trial 73 with value: 12459655.914287673.\n",
      "[I 2024-02-07 14:56:43,575] Trial 85 finished with value: 13711265.830605038 and parameters: {'max_depth': 4, 'learning_rate': 0.4361352339383754, 'n_estimators': 681, 'min_child_weight': 1, 'gamma': 0.39702026633226556, 'subsample': 0.7906880941178106, 'colsample_bytree': 0.6896854621261629, 'reg_alpha': 0.6604583125902953, 'reg_lambda': 0.9538968579114274, 'random_state': 104}. Best is trial 73 with value: 12459655.914287673.\n",
      "[I 2024-02-07 14:56:49,103] Trial 86 finished with value: 15582835.55956047 and parameters: {'max_depth': 6, 'learning_rate': 0.6202614487052832, 'n_estimators': 518, 'min_child_weight': 4, 'gamma': 0.5397430700269986, 'subsample': 0.8507866107977813, 'colsample_bytree': 0.6234638446222646, 'reg_alpha': 0.705432509061121, 'reg_lambda': 0.9272799702762796, 'random_state': 188}. Best is trial 73 with value: 12459655.914287673.\n",
      "[I 2024-02-07 14:56:53,662] Trial 87 finished with value: 13701327.349988727 and parameters: {'max_depth': 4, 'learning_rate': 0.40457325270141026, 'n_estimators': 597, 'min_child_weight': 1, 'gamma': 0.43092953549292784, 'subsample': 0.8702765474326177, 'colsample_bytree': 0.4614109877190129, 'reg_alpha': 0.5445610208631312, 'reg_lambda': 0.9878817578209398, 'random_state': 133}. Best is trial 73 with value: 12459655.914287673.\n",
      "[I 2024-02-07 14:56:59,011] Trial 88 finished with value: 13217411.496272868 and parameters: {'max_depth': 5, 'learning_rate': 0.3505797047532226, 'n_estimators': 733, 'min_child_weight': 3, 'gamma': 0.45392069952224484, 'subsample': 0.4539847217973974, 'colsample_bytree': 0.6479666767458683, 'reg_alpha': 0.6063618915338879, 'reg_lambda': 0.8222937872582623, 'random_state': 297}. Best is trial 73 with value: 12459655.914287673.\n",
      "[I 2024-02-07 14:57:05,016] Trial 89 finished with value: 18182157.608817495 and parameters: {'max_depth': 3, 'learning_rate': 0.3147465071160295, 'n_estimators': 736, 'min_child_weight': 6, 'gamma': 0.45157538152553345, 'subsample': 0.38970837427914623, 'colsample_bytree': 0.722879076146689, 'reg_alpha': 0.06170846619852591, 'reg_lambda': 0.7894524289927045, 'random_state': 274}. Best is trial 73 with value: 12459655.914287673.\n",
      "[I 2024-02-07 14:57:09,801] Trial 90 finished with value: 16025451.534191534 and parameters: {'max_depth': 5, 'learning_rate': 0.3573866257979018, 'n_estimators': 704, 'min_child_weight': 2, 'gamma': 0.3522577893267341, 'subsample': 0.4766264340389364, 'colsample_bytree': 0.5253392240965244, 'reg_alpha': 0.2240200208111448, 'reg_lambda': 0.8240029541960955, 'random_state': 312}. Best is trial 73 with value: 12459655.914287673.\n",
      "[I 2024-02-07 14:57:14,520] Trial 91 finished with value: 16039938.10848964 and parameters: {'max_depth': 5, 'learning_rate': 0.39233092622674964, 'n_estimators': 669, 'min_child_weight': 3, 'gamma': 0.4913131930787288, 'subsample': 0.4367550351313782, 'colsample_bytree': 0.6583578334578875, 'reg_alpha': 0.6164135654347683, 'reg_lambda': 0.8999522820724111, 'random_state': 227}. Best is trial 73 with value: 12459655.914287673.\n",
      "[I 2024-02-07 14:57:18,997] Trial 92 finished with value: 16022188.299468443 and parameters: {'max_depth': 4, 'learning_rate': 0.32533707801089595, 'n_estimators': 761, 'min_child_weight': 3, 'gamma': 0.5251294529052365, 'subsample': 0.5170364366954808, 'colsample_bytree': 0.6328286342228872, 'reg_alpha': 0.4538132872019906, 'reg_lambda': 0.856417757820018, 'random_state': 167}. Best is trial 73 with value: 12459655.914287673.\n",
      "[I 2024-02-07 14:57:23,717] Trial 93 finished with value: 14033525.809109664 and parameters: {'max_depth': 5, 'learning_rate': 0.2771190686868685, 'n_estimators': 637, 'min_child_weight': 1, 'gamma': 0.4490866237558625, 'subsample': 0.43562792348677787, 'colsample_bytree': 0.6011182795689964, 'reg_alpha': 0.6860892959092659, 'reg_lambda': 0.9684227065084319, 'random_state': 42}. Best is trial 73 with value: 12459655.914287673.\n",
      "[I 2024-02-07 14:57:28,601] Trial 94 finished with value: 15233507.819591645 and parameters: {'max_depth': 4, 'learning_rate': 0.30590312019336235, 'n_estimators': 733, 'min_child_weight': 4, 'gamma': 0.5853836101070776, 'subsample': 0.8034666154378172, 'colsample_bytree': 0.6995981613336273, 'reg_alpha': 0.8233418582506311, 'reg_lambda': 0.9140481173071926, 'random_state': 209}. Best is trial 73 with value: 12459655.914287673.\n",
      "[I 2024-02-07 14:57:33,690] Trial 95 finished with value: 15802481.639331475 and parameters: {'max_depth': 6, 'learning_rate': 0.49246490010218746, 'n_estimators': 652, 'min_child_weight': 1, 'gamma': 0.4878222030522754, 'subsample': 0.5142146993083531, 'colsample_bytree': 0.5485126083132049, 'reg_alpha': 0.5016586568272834, 'reg_lambda': 0.8280749904435911, 'random_state': 296}. Best is trial 73 with value: 12459655.914287673.\n",
      "[I 2024-02-07 14:57:37,462] Trial 96 finished with value: 13653136.186072702 and parameters: {'max_depth': 4, 'learning_rate': 0.46142322453230367, 'n_estimators': 679, 'min_child_weight': 2, 'gamma': 0.3704720113925901, 'subsample': 0.8951208094840948, 'colsample_bytree': 0.5804341595061833, 'reg_alpha': 0.5852819240224568, 'reg_lambda': 0.48245688759949285, 'random_state': 142}. Best is trial 73 with value: 12459655.914287673.\n",
      "[I 2024-02-07 14:57:40,786] Trial 97 finished with value: 17069050.96660771 and parameters: {'max_depth': 5, 'learning_rate': 0.16173469817389202, 'n_estimators': 583, 'min_child_weight': 5, 'gamma': 0.1856486199016703, 'subsample': 0.30664634096412346, 'colsample_bytree': 0.7331212600111767, 'reg_alpha': 0.664493612647853, 'reg_lambda': 0.9458427768728036, 'random_state': 256}. Best is trial 73 with value: 12459655.914287673.\n"
     ]
    },
    {
     "name": "stderr",
     "output_type": "stream",
     "text": [
      "[I 2024-02-07 14:57:44,541] Trial 98 finished with value: 16824009.083889972 and parameters: {'max_depth': 4, 'learning_rate': 0.5509449577876592, 'n_estimators': 708, 'min_child_weight': 3, 'gamma': 0.3122411702412798, 'subsample': 0.5941791544335011, 'colsample_bytree': 0.471023561220677, 'reg_alpha': 0.6356790650027843, 'reg_lambda': 0.8847699035344003, 'random_state': 89}. Best is trial 73 with value: 12459655.914287673.\n",
      "[I 2024-02-07 14:57:48,346] Trial 99 finished with value: 15099042.196851837 and parameters: {'max_depth': 6, 'learning_rate': 0.4243943660368765, 'n_estimators': 544, 'min_child_weight': 1, 'gamma': 0.5615833644070768, 'subsample': 0.8437497344492211, 'colsample_bytree': 0.6809059264984624, 'reg_alpha': 0.6082386875032036, 'reg_lambda': 0.41383800103447105, 'random_state': 228}. Best is trial 73 with value: 12459655.914287673.\n"
     ]
    }
   ],
   "source": [
    "study = optuna.create_study(direction='minimize', study_name='regression')\n",
    "study.optimize(objective, n_trials=100)"
   ]
  },
  {
   "cell_type": "code",
   "execution_count": null,
   "id": "edf9c69f",
   "metadata": {},
   "outputs": [],
   "source": []
  },
  {
   "cell_type": "code",
   "execution_count": 16,
   "id": "5c70531e",
   "metadata": {},
   "outputs": [
    {
     "name": "stdout",
     "output_type": "stream",
     "text": [
      "Best parameters {'max_depth': 4, 'learning_rate': 0.4023884054905842, 'n_estimators': 602, 'min_child_weight': 1, 'gamma': 0.6844674302270423, 'subsample': 0.8489996803685931, 'colsample_bytree': 0.6775783225413308, 'reg_alpha': 0.6421588199445127, 'reg_lambda': 0.8264437333231882, 'random_state': 523}\n"
     ]
    }
   ],
   "source": [
    "# Print the best parameters\n",
    "print('Best parameters', study.best_params)"
   ]
  },
  {
   "cell_type": "code",
   "execution_count": 17,
   "id": "8bb50249",
   "metadata": {},
   "outputs": [],
   "source": [
    "model = XGBRegressor(**study.best_params)"
   ]
  },
  {
   "cell_type": "code",
   "execution_count": 19,
   "id": "c670d124",
   "metadata": {},
   "outputs": [
    {
     "data": {
      "text/html": [
       "<style>#sk-container-id-1 {color: black;}#sk-container-id-1 pre{padding: 0;}#sk-container-id-1 div.sk-toggleable {background-color: white;}#sk-container-id-1 label.sk-toggleable__label {cursor: pointer;display: block;width: 100%;margin-bottom: 0;padding: 0.3em;box-sizing: border-box;text-align: center;}#sk-container-id-1 label.sk-toggleable__label-arrow:before {content: \"▸\";float: left;margin-right: 0.25em;color: #696969;}#sk-container-id-1 label.sk-toggleable__label-arrow:hover:before {color: black;}#sk-container-id-1 div.sk-estimator:hover label.sk-toggleable__label-arrow:before {color: black;}#sk-container-id-1 div.sk-toggleable__content {max-height: 0;max-width: 0;overflow: hidden;text-align: left;background-color: #f0f8ff;}#sk-container-id-1 div.sk-toggleable__content pre {margin: 0.2em;color: black;border-radius: 0.25em;background-color: #f0f8ff;}#sk-container-id-1 input.sk-toggleable__control:checked~div.sk-toggleable__content {max-height: 200px;max-width: 100%;overflow: auto;}#sk-container-id-1 input.sk-toggleable__control:checked~label.sk-toggleable__label-arrow:before {content: \"▾\";}#sk-container-id-1 div.sk-estimator input.sk-toggleable__control:checked~label.sk-toggleable__label {background-color: #d4ebff;}#sk-container-id-1 div.sk-label input.sk-toggleable__control:checked~label.sk-toggleable__label {background-color: #d4ebff;}#sk-container-id-1 input.sk-hidden--visually {border: 0;clip: rect(1px 1px 1px 1px);clip: rect(1px, 1px, 1px, 1px);height: 1px;margin: -1px;overflow: hidden;padding: 0;position: absolute;width: 1px;}#sk-container-id-1 div.sk-estimator {font-family: monospace;background-color: #f0f8ff;border: 1px dotted black;border-radius: 0.25em;box-sizing: border-box;margin-bottom: 0.5em;}#sk-container-id-1 div.sk-estimator:hover {background-color: #d4ebff;}#sk-container-id-1 div.sk-parallel-item::after {content: \"\";width: 100%;border-bottom: 1px solid gray;flex-grow: 1;}#sk-container-id-1 div.sk-label:hover label.sk-toggleable__label {background-color: #d4ebff;}#sk-container-id-1 div.sk-serial::before {content: \"\";position: absolute;border-left: 1px solid gray;box-sizing: border-box;top: 0;bottom: 0;left: 50%;z-index: 0;}#sk-container-id-1 div.sk-serial {display: flex;flex-direction: column;align-items: center;background-color: white;padding-right: 0.2em;padding-left: 0.2em;position: relative;}#sk-container-id-1 div.sk-item {position: relative;z-index: 1;}#sk-container-id-1 div.sk-parallel {display: flex;align-items: stretch;justify-content: center;background-color: white;position: relative;}#sk-container-id-1 div.sk-item::before, #sk-container-id-1 div.sk-parallel-item::before {content: \"\";position: absolute;border-left: 1px solid gray;box-sizing: border-box;top: 0;bottom: 0;left: 50%;z-index: -1;}#sk-container-id-1 div.sk-parallel-item {display: flex;flex-direction: column;z-index: 1;position: relative;background-color: white;}#sk-container-id-1 div.sk-parallel-item:first-child::after {align-self: flex-end;width: 50%;}#sk-container-id-1 div.sk-parallel-item:last-child::after {align-self: flex-start;width: 50%;}#sk-container-id-1 div.sk-parallel-item:only-child::after {width: 0;}#sk-container-id-1 div.sk-dashed-wrapped {border: 1px dashed gray;margin: 0 0.4em 0.5em 0.4em;box-sizing: border-box;padding-bottom: 0.4em;background-color: white;}#sk-container-id-1 div.sk-label label {font-family: monospace;font-weight: bold;display: inline-block;line-height: 1.2em;}#sk-container-id-1 div.sk-label-container {text-align: center;}#sk-container-id-1 div.sk-container {/* jupyter's `normalize.less` sets `[hidden] { display: none; }` but bootstrap.min.css set `[hidden] { display: none !important; }` so we also need the `!important` here to be able to override the default hidden behavior on the sphinx rendered scikit-learn.org. See: https://github.com/scikit-learn/scikit-learn/issues/21755 */display: inline-block !important;position: relative;}#sk-container-id-1 div.sk-text-repr-fallback {display: none;}</style><div id=\"sk-container-id-1\" class=\"sk-top-container\"><div class=\"sk-text-repr-fallback\"><pre>XGBRegressor(base_score=None, booster=None, callbacks=None,\n",
       "             colsample_bylevel=None, colsample_bynode=None,\n",
       "             colsample_bytree=0.6775783225413308, device=None,\n",
       "             early_stopping_rounds=None, enable_categorical=False,\n",
       "             eval_metric=None, feature_types=None, gamma=0.6844674302270423,\n",
       "             grow_policy=None, importance_type=None,\n",
       "             interaction_constraints=None, learning_rate=0.4023884054905842,\n",
       "             max_bin=None, max_cat_threshold=None, max_cat_to_onehot=None,\n",
       "             max_delta_step=None, max_depth=4, max_leaves=None,\n",
       "             min_child_weight=1, missing=nan, monotone_constraints=None,\n",
       "             multi_strategy=None, n_estimators=602, n_jobs=None,\n",
       "             num_parallel_tree=None, random_state=523, ...)</pre><b>In a Jupyter environment, please rerun this cell to show the HTML representation or trust the notebook. <br />On GitHub, the HTML representation is unable to render, please try loading this page with nbviewer.org.</b></div><div class=\"sk-container\" hidden><div class=\"sk-item\"><div class=\"sk-estimator sk-toggleable\"><input class=\"sk-toggleable__control sk-hidden--visually\" id=\"sk-estimator-id-1\" type=\"checkbox\" checked><label for=\"sk-estimator-id-1\" class=\"sk-toggleable__label sk-toggleable__label-arrow\">XGBRegressor</label><div class=\"sk-toggleable__content\"><pre>XGBRegressor(base_score=None, booster=None, callbacks=None,\n",
       "             colsample_bylevel=None, colsample_bynode=None,\n",
       "             colsample_bytree=0.6775783225413308, device=None,\n",
       "             early_stopping_rounds=None, enable_categorical=False,\n",
       "             eval_metric=None, feature_types=None, gamma=0.6844674302270423,\n",
       "             grow_policy=None, importance_type=None,\n",
       "             interaction_constraints=None, learning_rate=0.4023884054905842,\n",
       "             max_bin=None, max_cat_threshold=None, max_cat_to_onehot=None,\n",
       "             max_delta_step=None, max_depth=4, max_leaves=None,\n",
       "             min_child_weight=1, missing=nan, monotone_constraints=None,\n",
       "             multi_strategy=None, n_estimators=602, n_jobs=None,\n",
       "             num_parallel_tree=None, random_state=523, ...)</pre></div></div></div></div></div>"
      ],
      "text/plain": [
       "XGBRegressor(base_score=None, booster=None, callbacks=None,\n",
       "             colsample_bylevel=None, colsample_bynode=None,\n",
       "             colsample_bytree=0.6775783225413308, device=None,\n",
       "             early_stopping_rounds=None, enable_categorical=False,\n",
       "             eval_metric=None, feature_types=None, gamma=0.6844674302270423,\n",
       "             grow_policy=None, importance_type=None,\n",
       "             interaction_constraints=None, learning_rate=0.4023884054905842,\n",
       "             max_bin=None, max_cat_threshold=None, max_cat_to_onehot=None,\n",
       "             max_delta_step=None, max_depth=4, max_leaves=None,\n",
       "             min_child_weight=1, missing=nan, monotone_constraints=None,\n",
       "             multi_strategy=None, n_estimators=602, n_jobs=None,\n",
       "             num_parallel_tree=None, random_state=523, ...)"
      ]
     },
     "execution_count": 19,
     "metadata": {},
     "output_type": "execute_result"
    }
   ],
   "source": [
    "model.fit(X_train, y_train)"
   ]
  },
  {
   "cell_type": "code",
   "execution_count": 20,
   "id": "fa883b6b",
   "metadata": {},
   "outputs": [],
   "source": [
    "y_pred = model.predict(X_test)"
   ]
  },
  {
   "cell_type": "code",
   "execution_count": 21,
   "id": "68fec61b",
   "metadata": {},
   "outputs": [
    {
     "data": {
      "text/plain": [
       "array([ 8821.459 ,  5719.6724, 32118.826 , ...,  9613.323 ,  2926.7153,\n",
       "        2254.5186], dtype=float32)"
      ]
     },
     "execution_count": 21,
     "metadata": {},
     "output_type": "execute_result"
    }
   ],
   "source": [
    "y_pred"
   ]
  },
  {
   "cell_type": "code",
   "execution_count": 22,
   "id": "0b55ff00",
   "metadata": {},
   "outputs": [],
   "source": [
    "mse = mean_squared_error(y_test, y_pred)"
   ]
  },
  {
   "cell_type": "code",
   "execution_count": 23,
   "id": "ecee6fe7",
   "metadata": {},
   "outputs": [
    {
     "data": {
      "text/plain": [
       "3529.823779494902"
      ]
     },
     "execution_count": 23,
     "metadata": {},
     "output_type": "execute_result"
    }
   ],
   "source": [
    "math.sqrt(mse)"
   ]
  },
  {
   "cell_type": "code",
   "execution_count": 30,
   "id": "8588cfa1",
   "metadata": {},
   "outputs": [
    {
     "data": {
      "text/html": [
       "<style>#sk-container-id-2 {color: black;}#sk-container-id-2 pre{padding: 0;}#sk-container-id-2 div.sk-toggleable {background-color: white;}#sk-container-id-2 label.sk-toggleable__label {cursor: pointer;display: block;width: 100%;margin-bottom: 0;padding: 0.3em;box-sizing: border-box;text-align: center;}#sk-container-id-2 label.sk-toggleable__label-arrow:before {content: \"▸\";float: left;margin-right: 0.25em;color: #696969;}#sk-container-id-2 label.sk-toggleable__label-arrow:hover:before {color: black;}#sk-container-id-2 div.sk-estimator:hover label.sk-toggleable__label-arrow:before {color: black;}#sk-container-id-2 div.sk-toggleable__content {max-height: 0;max-width: 0;overflow: hidden;text-align: left;background-color: #f0f8ff;}#sk-container-id-2 div.sk-toggleable__content pre {margin: 0.2em;color: black;border-radius: 0.25em;background-color: #f0f8ff;}#sk-container-id-2 input.sk-toggleable__control:checked~div.sk-toggleable__content {max-height: 200px;max-width: 100%;overflow: auto;}#sk-container-id-2 input.sk-toggleable__control:checked~label.sk-toggleable__label-arrow:before {content: \"▾\";}#sk-container-id-2 div.sk-estimator input.sk-toggleable__control:checked~label.sk-toggleable__label {background-color: #d4ebff;}#sk-container-id-2 div.sk-label input.sk-toggleable__control:checked~label.sk-toggleable__label {background-color: #d4ebff;}#sk-container-id-2 input.sk-hidden--visually {border: 0;clip: rect(1px 1px 1px 1px);clip: rect(1px, 1px, 1px, 1px);height: 1px;margin: -1px;overflow: hidden;padding: 0;position: absolute;width: 1px;}#sk-container-id-2 div.sk-estimator {font-family: monospace;background-color: #f0f8ff;border: 1px dotted black;border-radius: 0.25em;box-sizing: border-box;margin-bottom: 0.5em;}#sk-container-id-2 div.sk-estimator:hover {background-color: #d4ebff;}#sk-container-id-2 div.sk-parallel-item::after {content: \"\";width: 100%;border-bottom: 1px solid gray;flex-grow: 1;}#sk-container-id-2 div.sk-label:hover label.sk-toggleable__label {background-color: #d4ebff;}#sk-container-id-2 div.sk-serial::before {content: \"\";position: absolute;border-left: 1px solid gray;box-sizing: border-box;top: 0;bottom: 0;left: 50%;z-index: 0;}#sk-container-id-2 div.sk-serial {display: flex;flex-direction: column;align-items: center;background-color: white;padding-right: 0.2em;padding-left: 0.2em;position: relative;}#sk-container-id-2 div.sk-item {position: relative;z-index: 1;}#sk-container-id-2 div.sk-parallel {display: flex;align-items: stretch;justify-content: center;background-color: white;position: relative;}#sk-container-id-2 div.sk-item::before, #sk-container-id-2 div.sk-parallel-item::before {content: \"\";position: absolute;border-left: 1px solid gray;box-sizing: border-box;top: 0;bottom: 0;left: 50%;z-index: -1;}#sk-container-id-2 div.sk-parallel-item {display: flex;flex-direction: column;z-index: 1;position: relative;background-color: white;}#sk-container-id-2 div.sk-parallel-item:first-child::after {align-self: flex-end;width: 50%;}#sk-container-id-2 div.sk-parallel-item:last-child::after {align-self: flex-start;width: 50%;}#sk-container-id-2 div.sk-parallel-item:only-child::after {width: 0;}#sk-container-id-2 div.sk-dashed-wrapped {border: 1px dashed gray;margin: 0 0.4em 0.5em 0.4em;box-sizing: border-box;padding-bottom: 0.4em;background-color: white;}#sk-container-id-2 div.sk-label label {font-family: monospace;font-weight: bold;display: inline-block;line-height: 1.2em;}#sk-container-id-2 div.sk-label-container {text-align: center;}#sk-container-id-2 div.sk-container {/* jupyter's `normalize.less` sets `[hidden] { display: none; }` but bootstrap.min.css set `[hidden] { display: none !important; }` so we also need the `!important` here to be able to override the default hidden behavior on the sphinx rendered scikit-learn.org. See: https://github.com/scikit-learn/scikit-learn/issues/21755 */display: inline-block !important;position: relative;}#sk-container-id-2 div.sk-text-repr-fallback {display: none;}</style><div id=\"sk-container-id-2\" class=\"sk-top-container\"><div class=\"sk-text-repr-fallback\"><pre>XGBRegressor(base_score=None, booster=None, callbacks=None,\n",
       "             colsample_bylevel=None, colsample_bynode=None,\n",
       "             colsample_bytree=0.6775783225413308, device=None,\n",
       "             early_stopping_rounds=None, enable_categorical=False,\n",
       "             eval_metric=None, feature_types=None, gamma=0.6844674302270423,\n",
       "             grow_policy=None, importance_type=None,\n",
       "             interaction_constraints=None, learning_rate=0.4023884054905842,\n",
       "             max_bin=None, max_cat_threshold=None, max_cat_to_onehot=None,\n",
       "             max_delta_step=None, max_depth=4, max_leaves=None,\n",
       "             min_child_weight=1, missing=nan, monotone_constraints=None,\n",
       "             multi_strategy=None, n_estimators=602, n_jobs=None,\n",
       "             num_parallel_tree=None, random_state=523, ...)</pre><b>In a Jupyter environment, please rerun this cell to show the HTML representation or trust the notebook. <br />On GitHub, the HTML representation is unable to render, please try loading this page with nbviewer.org.</b></div><div class=\"sk-container\" hidden><div class=\"sk-item\"><div class=\"sk-estimator sk-toggleable\"><input class=\"sk-toggleable__control sk-hidden--visually\" id=\"sk-estimator-id-2\" type=\"checkbox\" checked><label for=\"sk-estimator-id-2\" class=\"sk-toggleable__label sk-toggleable__label-arrow\">XGBRegressor</label><div class=\"sk-toggleable__content\"><pre>XGBRegressor(base_score=None, booster=None, callbacks=None,\n",
       "             colsample_bylevel=None, colsample_bynode=None,\n",
       "             colsample_bytree=0.6775783225413308, device=None,\n",
       "             early_stopping_rounds=None, enable_categorical=False,\n",
       "             eval_metric=None, feature_types=None, gamma=0.6844674302270423,\n",
       "             grow_policy=None, importance_type=None,\n",
       "             interaction_constraints=None, learning_rate=0.4023884054905842,\n",
       "             max_bin=None, max_cat_threshold=None, max_cat_to_onehot=None,\n",
       "             max_delta_step=None, max_depth=4, max_leaves=None,\n",
       "             min_child_weight=1, missing=nan, monotone_constraints=None,\n",
       "             multi_strategy=None, n_estimators=602, n_jobs=None,\n",
       "             num_parallel_tree=None, random_state=523, ...)</pre></div></div></div></div></div>"
      ],
      "text/plain": [
       "XGBRegressor(base_score=None, booster=None, callbacks=None,\n",
       "             colsample_bylevel=None, colsample_bynode=None,\n",
       "             colsample_bytree=0.6775783225413308, device=None,\n",
       "             early_stopping_rounds=None, enable_categorical=False,\n",
       "             eval_metric=None, feature_types=None, gamma=0.6844674302270423,\n",
       "             grow_policy=None, importance_type=None,\n",
       "             interaction_constraints=None, learning_rate=0.4023884054905842,\n",
       "             max_bin=None, max_cat_threshold=None, max_cat_to_onehot=None,\n",
       "             max_delta_step=None, max_depth=4, max_leaves=None,\n",
       "             min_child_weight=1, missing=nan, monotone_constraints=None,\n",
       "             multi_strategy=None, n_estimators=602, n_jobs=None,\n",
       "             num_parallel_tree=None, random_state=523, ...)"
      ]
     },
     "execution_count": 30,
     "metadata": {},
     "output_type": "execute_result"
    }
   ],
   "source": [
    "model"
   ]
  },
  {
   "cell_type": "code",
   "execution_count": 25,
   "id": "7cde7b8b",
   "metadata": {},
   "outputs": [
    {
     "ename": "AttributeError",
     "evalue": "'XGBRegressor' object has no attribute 'dump_model'",
     "output_type": "error",
     "traceback": [
      "\u001b[0;31m---------------------------------------------------------------------------\u001b[0m",
      "\u001b[0;31mAttributeError\u001b[0m                            Traceback (most recent call last)",
      "Cell \u001b[0;32mIn[25], line 1\u001b[0m\n\u001b[0;32m----> 1\u001b[0m model\u001b[38;5;241m.\u001b[39mdump_model(\u001b[38;5;124m'\u001b[39m\u001b[38;5;124mdump.raw.txt\u001b[39m\u001b[38;5;124m'\u001b[39m)\n\u001b[1;32m      2\u001b[0m model\u001b[38;5;241m.\u001b[39mdump_model(\u001b[38;5;124m'\u001b[39m\u001b[38;5;124mdump.raw.txt\u001b[39m\u001b[38;5;124m'\u001b[39m, \u001b[38;5;124m'\u001b[39m\u001b[38;5;124mfeatmap.txt\u001b[39m\u001b[38;5;124m'\u001b[39m)\n",
      "\u001b[0;31mAttributeError\u001b[0m: 'XGBRegressor' object has no attribute 'dump_model'"
     ]
    }
   ],
   "source": [
    "dump(xgb_model, 'xgb_model.joblib')"
   ]
  },
  {
   "cell_type": "code",
   "execution_count": null,
   "id": "a1b13825",
   "metadata": {},
   "outputs": [],
   "source": []
  }
 ],
 "metadata": {
  "kernelspec": {
   "display_name": "venv",
   "language": "python",
   "name": "venv"
  },
  "language_info": {
   "codemirror_mode": {
    "name": "ipython",
    "version": 3
   },
   "file_extension": ".py",
   "mimetype": "text/x-python",
   "name": "python",
   "nbconvert_exporter": "python",
   "pygments_lexer": "ipython3",
   "version": "3.11.5"
  }
 },
 "nbformat": 4,
 "nbformat_minor": 5
}
